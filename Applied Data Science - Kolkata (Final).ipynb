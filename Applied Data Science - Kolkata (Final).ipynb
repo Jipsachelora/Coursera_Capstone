{
 "cells": [
  {
   "cell_type": "markdown",
   "metadata": {
    "collapsed": true
   },
   "source": [
    "# Applied DataScience - Finding Best Place for Foodies in Kolkata, India\n",
    "## Arghyadeep Ganguly\n",
    "### 20th JAN 2010"
   ]
  },
  {
   "cell_type": "markdown",
   "metadata": {},
   "source": [
    "#\n",
    "## Introduction/Business Problem\n"
   ]
  },
  {
   "cell_type": "markdown",
   "metadata": {},
   "source": [
    "In our citi of Kolkata(India), famously known as City Of Joy , there are new tourists come from different part of the world. With many historicaly significant places, there are areas in the city, which been considered as heaven for all food lovers. As kolkata is very large city and in a short stay, it could be very difficult to find these places. So I am planning to create this datascience project which will identify this food hot-spots. "
   ]
  },
  {
   "cell_type": "markdown",
   "metadata": {},
   "source": [
    "## A short description of the useful data"
   ]
  },
  {
   "cell_type": "markdown",
   "metadata": {},
   "source": [
    "There are no available dataset in csv/json/xls format which has enlisted all Kolkata negubourhoods with latitiude and lomgitude data. \n",
    "\n",
    "This data is only available in Wikipedia. Every Kolkata Corporation Wards have a separate Wiki pages and that contains geospatial data. I am planning to run a process that will hit every Wikipedia page (for each Kolkata ward) and will collect relevent information.\n",
    "\n",
    "An Example Kolkata Corporation Ward Page - \"https://en.wikipedia.org/wiki/Ward_No._1,_Kolkata_Municipal_Corporation\"\n",
    "\n",
    "Our next dataset would be Fousqaure venue data. After collecting nearby venues for available kolkata geographical points, those will be filtered to consider only categories which can be marked as eatries."
   ]
  },
  {
   "cell_type": "code",
   "execution_count": null,
   "metadata": {},
   "outputs": [],
   "source": []
  }
 ],
 "metadata": {
  "kernelspec": {
   "display_name": "Python 3.6",
   "language": "python",
   "name": "python3"
  },
  "language_info": {
   "codemirror_mode": {
    "name": "ipython",
    "version": 3
   },
   "file_extension": ".py",
   "mimetype": "text/x-python",
   "name": "python",
   "nbconvert_exporter": "python",
   "pygments_lexer": "ipython3",
   "version": "3.6.8"
  }
 },
 "nbformat": 4,
 "nbformat_minor": 1
}
